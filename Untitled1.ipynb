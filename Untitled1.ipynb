{
 "cells": [
  {
   "cell_type": "markdown",
   "metadata": {},
   "source": [
    "# <u>Different temperature scales</u>"
   ]
  },
  {
   "cell_type": "markdown",
   "metadata": {},
   "source": [
    "### The Fahrenheit\n",
    "The Fahrenheit scale - proposed by Daniel Gabriel Fahrenheit in 1724, is one by which it's 0th descrete temperature value is based off of Daniel mixing ice, water, and ammonia chloride to make a frigid slurry where this slurry was said to be the coldest thing that he could make in his laboratory."
   ]
  },
  {
   "cell_type": "markdown",
   "metadata": {},
   "source": [
    "### The Celcius\n",
    "The Ceclius/centigrade scale - named after Anders Celcius who proposed and developed a similar scale. It's 0th decrete temperature point is based off of the freezing point of water. "
   ]
  },
  {
   "cell_type": "markdown",
   "metadata": {},
   "source": [
    "### The Kelvin \n",
    "The Kelvin is the scale that's preferred to be used by most scientists and this is because it directly references to the object who's being observed's energy as the temperature of an object is directly proportional to the object's particle's movements which dictate the particle's energy.\n",
    "\n",
    "Kelvin's 0 - absolute 0 is defined by a an object who's particles have no activity at all."
   ]
  },
  {
   "cell_type": "markdown",
   "metadata": {},
   "source": [
    "# <u>Charles' Law</u>\n"
   ]
  }
 ],
 "metadata": {
  "kernelspec": {
   "display_name": "Python 2",
   "language": "python",
   "name": "python2"
  },
  "language_info": {
   "codemirror_mode": {
    "name": "ipython",
    "version": 2
   },
   "file_extension": ".py",
   "mimetype": "text/x-python",
   "name": "python",
   "nbconvert_exporter": "python",
   "pygments_lexer": "ipython2",
   "version": "2.7.10"
  }
 },
 "nbformat": 4,
 "nbformat_minor": 2
}
