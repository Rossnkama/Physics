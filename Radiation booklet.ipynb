{
 "cells": [
  {
   "cell_type": "markdown",
   "metadata": {},
   "source": [
    "# Radiation"
   ]
  },
  {
   "cell_type": "markdown",
   "metadata": {},
   "source": [
    "- In the process of **alpha decay**, alpha particles are emmitted who can be expressed with the notation: $_2^4\\alpha$\n",
    "\n",
    "$\\therefore \\hspace{0.3cm} Q = 2 \\times 1.60217662e-19 = 3.2e-19$\n",
    "\n",
    "- They consist of two protons and two neutrons bound together in a particle identical to to helium-4 nucleus.\n",
    "\n",
    "Because of the emmission of alpha particles, a particle who undergoes alpha decay will loose mass as alpha particles possess mass and are being emmitted from the particle.\n",
    "\n",
    "Alpha particles aren't very penetrative as they can can only travel through air up to a medium as dense as a few pieces of paper of properties: \n",
    "\n",
    "Thickness $\\approx$ 0.0035\"  \n",
    "Density $\\approx$ 800 kg/m3\n",
    "\n",
    "They interact with matter primarily through coulomb forces between their positive charge and the negative charge of the atomic electrons within the absorber.\n",
    "\n",
    "Alpha particles are the most ionising - Why?\n",
    "- They have a large mass, containing two protons and two neutrons meaning that they collide with a lot of other particles.\n",
    "- They give off the most kinetic energy to knock electrons off of other atoms:  \n",
    "\n",
    "    $\\hspace{1cm} E = hf$   \n",
    "    \n",
    "        and\n",
    "    \n",
    "    $\\hspace{1cm} f = \\dfrac{c}{\\lambda}$\n",
    "   \n",
    "        therefore...\n",
    "    \n",
    "    $\\hspace{1cm} f \\propto -\\lambda$\n",
    "    \n",
    "And alpha particles have the shortest wavelength, so therefore the largest energy which is why they're the most ionising.\n",
    "\n",
    "This is where **Beta radiation** is less ionising than alpha radiation but more ionisiong than gamma radiation due to it having a larger wavelength than alpha particles but a shorter wavelength than gamma.\n",
    "\n",
    "Beta radiation can be extressed with the notation $_1^0\\beta$ and is also called a positron, having the same mass as an electron but with an opposite charge meaning that a beta minus particle is just an electron. It can penetrate it's way through human flesh but is stopped by a thin sheet of aluminium.\n",
    "\n",
    "**Gamma radiation** is the the most penetrating power - being able to penetrate it's way through aluminium although the least ionising power, having no charge or mass allowing it to have the shortest wavelength of the three radiation types talked about in this information booklet.\n",
    "\n",
    "\n",
    "***Gamma***$\\hspace{3cm}$***Beta***$\\hspace{3cm}$***Alpha***  \n",
    "***--------------------------------------------------------------------->*** $E$\n",
    "\n",
    "This chart shows the energies of each particle where it makes clear that: $M \\propto E$\n",
    "\n",
    "Now as $_1^0\\beta$, using the rules above we know that a beta particle mus have the charge of $-1$.  \n",
    "\n",
    "So a Gamma particle, $_0^0\\gamma$ must then have a charge of 0. This combined with the massless nature of a Gamma ray, means that it possesses the highest penetrative capabilities."
   ]
  },
  {
   "cell_type": "markdown",
   "metadata": {},
   "source": [
    "# Health and safety"
   ]
  },
  {
   "cell_type": "markdown",
   "metadata": {},
   "source": [
    "The radiation types mentioned above are all ionising exposore to their particles will displace electrons from your body which can result in you being ill. To proctect from this, **precausions** include:\n",
    "\n",
    "    - Wearing protective clothing\n",
    "    - Keeping as far away as is practicable - for example, by using tongs\n",
    "    - Keeping your exposure time as short as possible, and\n",
    "    - keeping radioactive materials in lead-lined containers, labelled with the appropriate hazard symbol. \n",
    "    \n",
    "When these particles come into contact with organic material like human tissue, they will damage them if levels are high enough, in a short period of time. Which can lead to: \n",
    "\n",
    "    - Burns \n",
    "    - Problems with the blood \n",
    "    - Gastrointestinal problems \n",
    "    - Cardiovascular and central nervous system damage\n",
    "    - Cancer\n",
    "    \n",
    "And this can all lead to death.\n",
    "\n"
   ]
  }
 ],
 "metadata": {
  "kernelspec": {
   "display_name": "Python 2",
   "language": "python",
   "name": "python2"
  },
  "language_info": {
   "codemirror_mode": {
    "name": "ipython",
    "version": 2
   },
   "file_extension": ".py",
   "mimetype": "text/x-python",
   "name": "python",
   "nbconvert_exporter": "python",
   "pygments_lexer": "ipython2",
   "version": "2.7.10"
  }
 },
 "nbformat": 4,
 "nbformat_minor": 2
}
